{
 "cells": [
  {
   "cell_type": "code",
   "execution_count": 1,
   "id": "860175f0",
   "metadata": {},
   "outputs": [
    {
     "data": {
      "application/vnd.jupyter.widget-view+json": {
       "model_id": "520336968f8e454499fb7f144a2b87ff",
       "version_major": 2,
       "version_minor": 0
      },
      "text/plain": []
     },
     "metadata": {},
     "output_type": "display_data"
    }
   ],
   "source": [
    "import nglview\n",
    "with open(\"1ycr_Repair_Model_EB17A.pdb\") as f:\n",
    "    view = nglview.show_file(f,ext=\"pdb\")\n",
    "    nglview.write_html(\"{}.html\".format(f),[view])"
   ]
  },
  {
   "cell_type": "code",
   "execution_count": 2,
   "id": "3f2bdecd",
   "metadata": {},
   "outputs": [
    {
     "name": "stdout",
     "output_type": "stream",
     "text": [
      "iterationNumber==0\n"
     ]
    }
   ],
   "source": [
    "var_holder = {}\n",
    " \n",
    "for i in range(10):\n",
    "    var_holder['my_var_' + str(i)] = \"iterationNumber==\"+str(i)\n",
    " \n",
    "locals().update(var_holder)\n",
    " \n",
    "print(my_var_0)"
   ]
  },
  {
   "cell_type": "code",
   "execution_count": null,
   "id": "572e9708",
   "metadata": {},
   "outputs": [],
   "source": []
  }
 ],
 "metadata": {
  "kernelspec": {
   "display_name": "Python 3 (ipykernel)",
   "language": "python",
   "name": "python3"
  },
  "language_info": {
   "codemirror_mode": {
    "name": "ipython",
    "version": 3
   },
   "file_extension": ".py",
   "mimetype": "text/x-python",
   "name": "python",
   "nbconvert_exporter": "python",
   "pygments_lexer": "ipython3",
   "version": "3.9.13"
  }
 },
 "nbformat": 4,
 "nbformat_minor": 5
}
