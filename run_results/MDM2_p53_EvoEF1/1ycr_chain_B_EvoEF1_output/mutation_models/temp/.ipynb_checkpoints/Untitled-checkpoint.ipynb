{
 "cells": [
  {
   "cell_type": "code",
   "execution_count": 1,
   "id": "6c4cfa5b",
   "metadata": {},
   "outputs": [
    {
     "data": {
      "application/vnd.jupyter.widget-view+json": {
       "model_id": "39f6c5663a5c4222a1fbc2f13d6d845b",
       "version_major": 2,
       "version_minor": 0
      },
      "text/plain": []
     },
     "metadata": {},
     "output_type": "display_data"
    },
    {
     "name": "stdout",
     "output_type": "stream",
     "text": [
      "<_io.TextIOWrapper name='1ycr_Repair_Model_EB17A.pdb' mode='r' encoding='UTF-8'>\n",
      "<_io.TextIOWrapper name='1ycr_Repair_Model_EB17C.pdb' mode='r' encoding='UTF-8'>\n"
     ]
    }
   ],
   "source": [
    "import nglview\n",
    "import os\n",
    "\n",
    "a = []\n",
    "b = !ls\n",
    "for i in b:\n",
    "    a.append(i)\n",
    "del a[2]\n",
    "for i in a:\n",
    "    with open(\"{}\".format(i)) as f:\n",
    "        print(f)\n",
    "        #view = nglview.show_file(f,ext=\"pdb\")\n",
    "        #nglview.write_html(\"{}.html\".format(i),[view])\n"
   ]
  },
  {
   "cell_type": "code",
   "execution_count": 2,
   "id": "8e849ce3",
   "metadata": {},
   "outputs": [],
   "source": [
    "import nglview\n",
    "import os\n",
    "with open(\"1ycr_Repair_Model_EB17A.pdb\") as f:\n",
    "    view = nglview.show_file(f,ext=\"pdb\")\n",
    "    nglview.write_html(\"1ycr_Repair_Model_EB17A.html\",[view])\n"
   ]
  },
  {
   "cell_type": "code",
   "execution_count": 29,
   "id": "c8519af7",
   "metadata": {},
   "outputs": [
    {
     "name": "stdout",
     "output_type": "stream",
     "text": [
      "1ycr_Repair_Model_EB17A\n"
     ]
    },
    {
     "ename": "TypeError",
     "evalue": "'str' object does not support item assignment",
     "output_type": "error",
     "traceback": [
      "\u001b[0;31m---------------------------------------------------------------------------\u001b[0m",
      "\u001b[0;31mTypeError\u001b[0m                                 Traceback (most recent call last)",
      "\u001b[0;32m/tmp/ipykernel_1672736/3102326680.py\u001b[0m in \u001b[0;36m<module>\u001b[0;34m\u001b[0m\n\u001b[1;32m      1\u001b[0m \u001b[0;32mfor\u001b[0m \u001b[0mi\u001b[0m \u001b[0;32min\u001b[0m \u001b[0ma\u001b[0m\u001b[0;34m:\u001b[0m\u001b[0;34m\u001b[0m\u001b[0;34m\u001b[0m\u001b[0m\n\u001b[1;32m      2\u001b[0m     \u001b[0mprint\u001b[0m\u001b[0;34m(\u001b[0m\u001b[0mi\u001b[0m\u001b[0;34m[\u001b[0m\u001b[0;34m:\u001b[0m\u001b[0;34m-\u001b[0m\u001b[0;36m4\u001b[0m\u001b[0;34m]\u001b[0m\u001b[0;34m)\u001b[0m\u001b[0;34m\u001b[0m\u001b[0;34m\u001b[0m\u001b[0m\n\u001b[0;32m----> 3\u001b[0;31m     \u001b[0mi\u001b[0m\u001b[0;34m[\u001b[0m\u001b[0;34m:\u001b[0m\u001b[0;34m-\u001b[0m\u001b[0;36m4\u001b[0m\u001b[0;34m]\u001b[0m \u001b[0;34m=\u001b[0m \u001b[0;36m10\u001b[0m\u001b[0;34m\u001b[0m\u001b[0;34m\u001b[0m\u001b[0m\n\u001b[0m",
      "\u001b[0;31mTypeError\u001b[0m: 'str' object does not support item assignment"
     ]
    }
   ],
   "source": [
    "for i in a:\n",
    "    print(i[:-4])\n",
    "    i[:-4] = 10"
   ]
  },
  {
   "cell_type": "code",
   "execution_count": 20,
   "id": "d3ef55aa",
   "metadata": {},
   "outputs": [
    {
     "name": "stdout",
     "output_type": "stream",
     "text": [
      "10\n",
      "20\n"
     ]
    }
   ],
   "source": [
    "values = [10, 20, 30, 40, 50]\n",
    "\n",
    "for index, value in enumerate(values):\n",
    "    variable_name = f\"variable{index}\"\n",
    "    exec(f\"{variable_name} = {value}\")\n",
    "\n",
    "# Now you have variables like variable0, variable1, etc., each containing the corresponding value\n",
    "print(variable0)  # Output: 10\n",
    "print(variable1)  # Output: 20\n",
    "# ...\n"
   ]
  },
  {
   "cell_type": "code",
   "execution_count": 23,
   "id": "091e19a6",
   "metadata": {},
   "outputs": [
    {
     "data": {
      "text/plain": [
       "50"
      ]
     },
     "execution_count": 23,
     "metadata": {},
     "output_type": "execute_result"
    }
   ],
   "source": [
    "variable4"
   ]
  },
  {
   "cell_type": "code",
   "execution_count": null,
   "id": "9bac26d3",
   "metadata": {},
   "outputs": [],
   "source": []
  }
 ],
 "metadata": {
  "kernelspec": {
   "display_name": "Python 3 (ipykernel)",
   "language": "python",
   "name": "python3"
  },
  "language_info": {
   "codemirror_mode": {
    "name": "ipython",
    "version": 3
   },
   "file_extension": ".py",
   "mimetype": "text/x-python",
   "name": "python",
   "nbconvert_exporter": "python",
   "pygments_lexer": "ipython3",
   "version": "3.9.13"
  }
 },
 "nbformat": 4,
 "nbformat_minor": 5
}
