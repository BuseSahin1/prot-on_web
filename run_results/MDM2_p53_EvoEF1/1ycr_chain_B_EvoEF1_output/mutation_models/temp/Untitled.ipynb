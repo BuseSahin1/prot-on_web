{
 "cells": [
  {
   "cell_type": "code",
   "execution_count": 1,
   "id": "6c4cfa5b",
   "metadata": {},
   "outputs": [
    {
     "data": {
      "application/vnd.jupyter.widget-view+json": {
       "model_id": "44590e764e374312a5bc556a1f799891",
       "version_major": 2,
       "version_minor": 0
      },
      "text/plain": []
     },
     "metadata": {},
     "output_type": "display_data"
    },
    {
     "name": "stdout",
     "output_type": "stream",
     "text": [
      "<_io.TextIOWrapper name='1ycr_Repair_Model_EB17A.pdb' mode='r' encoding='UTF-8'>\n",
      "<_io.TextIOWrapper name='1ycr_Repair_Model_EB17C.pdb' mode='r' encoding='UTF-8'>\n"
     ]
    }
   ],
   "source": [
    "import nglview\n",
    "import os\n",
    "\n",
    "a = []\n",
    "b = !ls\n",
    "for i in b:\n",
    "    a.append(i)\n",
    "del a[2]\n",
    "for i in a:\n",
    "    with open(\"{}\".format(i)) as f:\n",
    "        print(f)\n",
    "        view = nglview.show_file(f,ext=\"pdb\")\n",
    "        nglview.write_html(\"{}.html\".format(i),[view]"
   ]
  },
  {
   "cell_type": "code",
   "execution_count": 2,
   "id": "8e849ce3",
   "metadata": {},
   "outputs": [],
   "source": [
    "import nglview\n",
    "import os\n",
    "\n",
    "with open(\"1ycr_Repair_Model_EB17C.pdb\") as r:\n",
    "    nglview.write_html(\"1ycr_Repair_Model_EB17C.html\",[nglview.show_file(r,ext=\"pdb\")])\n"
   ]
  },
  {
   "cell_type": "code",
   "execution_count": 3,
   "id": "c8519af7",
   "metadata": {},
   "outputs": [],
   "source": [
    "import nglview\n",
    "nglview.write_html(\"1ycr_Repair_Model_EB17A.html\",[nglview.show_file(\"1ycr_Repair_Model_EB17A.pdb\",ext=\"pdb\")])"
   ]
  },
  {
   "cell_type": "code",
   "execution_count": null,
   "id": "9bac26d3",
   "metadata": {},
   "outputs": [],
   "source": [
    "mutations = \"1ycr_Repair_Model_EB17A\"\n",
    "with open(\"1ycr_Repair_Model_EB17C.pdb\") as r:"
   ]
  },
  {
   "cell_type": "code",
   "execution_count": null,
   "id": "05479272",
   "metadata": {},
   "outputs": [],
   "source": []
  }
 ],
 "metadata": {
  "kernelspec": {
   "display_name": "Python 3 (ipykernel)",
   "language": "python",
   "name": "python3"
  },
  "language_info": {
   "codemirror_mode": {
    "name": "ipython",
    "version": 3
   },
   "file_extension": ".py",
   "mimetype": "text/x-python",
   "name": "python",
   "nbconvert_exporter": "python",
   "pygments_lexer": "ipython3",
   "version": "3.9.13"
  }
 },
 "nbformat": 4,
 "nbformat_minor": 5
}
